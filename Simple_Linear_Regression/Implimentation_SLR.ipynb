{
 "cells": [
  {
   "cell_type": "code",
   "execution_count": 67,
   "metadata": {},
   "outputs": [],
   "source": [
    "#importing libraries\n",
    "import numpy as np\n",
    "import matplotlib.pyplot as plt"
   ]
  },
  {
   "cell_type": "code",
   "execution_count": 68,
   "metadata": {},
   "outputs": [],
   "source": [
    "#defining function for estimating coefficient b1 and b0 y-intercept and slope \n",
    "def estimate_coef(x , y):\n",
    "    #no. of observations\n",
    "    n = np.size(x)\n",
    "    #mean of x and y vector\n",
    "    m_x , m_y = np.mean(x) , np.mean(y)\n",
    "    #calculating cross-deviation and deviation about x\n",
    "    #ss sum of square in actual cross deviation formula is sumition of n=1 to n ((x-x(bax))/(y-y(bar)))/(x-x(bar))square, where y(bar) is 1/n multiply with sumition of n=1 to n (y(i) where in is each ele in y vector and similary for xx\n",
    "    #in programming we multiply mean of x to mean of y and no. of ele in x and subtract it from sum of x*y\n",
    "    SS_xy = np.sum(y*x) - n*m_y*m_x\n",
    "    print('value of SS_xy: ', SS_xy)\n",
    "    SS_xx = np.sum(x*x) - n*m_x*m_x\n",
    "    print('value of SS_xx: ', SS_xx)\n",
    "    #calculating  regression coefficients\n",
    "    # b1 y-intercept is division of cross deviation and deviation abpout x\n",
    "    b1 = SS_xy / SS_xx \n",
    "    b0 = m_y - b1*m_x\n",
    "    \n",
    "    #resulting\n",
    "    return(b0 , b1)\n",
    "    "
   ]
  },
  {
   "cell_type": "code",
   "execution_count": 69,
   "metadata": {},
   "outputs": [],
   "source": [
    "# plotting regression line \n",
    "def plot_reg_line(x , y , b):\n",
    "    #plotting actual points as scatter plot\n",
    "    plt.scatter(x , y , color = 'red')\n",
    "    \n",
    "    #prediciting y(response) vector\n",
    "    # y = b1 + b0 * x\n",
    "    y_pred = b[0] + b[1] * x\n",
    "    \n",
    "    #plotting the regression line\n",
    "    plt.plot(x , y_pred , color = 'green')\n",
    "    \n",
    "    #putting labels\n",
    "    plt.xlabel('x')\n",
    "    plt.ylabel('y')\n",
    "    \n",
    "    #function to show plot\n",
    "    plt.show()"
   ]
  },
  {
   "cell_type": "code",
   "execution_count": 70,
   "metadata": {},
   "outputs": [],
   "source": [
    "#main method\n",
    "def main():\n",
    "    #observation\n",
    "    x = np.array([0, 2, 4, 6, 8, 10, 12, 14, 16, 18, 20])\n",
    "    y = np.array([1, 4, 3, 8, 6, 12, 16, 15, 36, 24, 32]) \n",
    "    \n",
    "    #function calls\n",
    "    # estimating coefficients\n",
    "    b = estimate_coef(x , y)\n",
    "    print(' Estimated coefficient: \\n b0 = {} \\n b1 = {} ' .format(b[0] , b[1]))\n",
    "    \n",
    "    #plotting regression line\n",
    "    plot_reg_line(x , y, b)\n",
    "    \n",
    "    "
   ]
  },
  {
   "cell_type": "code",
   "execution_count": 71,
   "metadata": {},
   "outputs": [
    {
     "name": "stdout",
     "output_type": "stream",
     "text": [
      "value of SS_xy:  716.0\n",
      "value of SS_xx:  440.0\n",
      " Estimated coefficient: \n",
      " b0 = -2.0 \n",
      " b1 = 1.6272727272727272 \n"
     ]
    },
    {
     "data": {
      "image/png": "[encoded data removed]",
      "text/plain": [
       "<Figure size 432x288 with 1 Axes>"
      ]
     },
     "metadata": {
      "needs_background": "light"
     },
     "output_type": "display_data"
    }
   ],
   "source": [
    "# main function call\n",
    "\n",
    "if __name__ == \"__main__\":\n",
    "    main()\n",
    "    "
   ]
  }
 ],
 "metadata": {
  "kernelspec": {
   "display_name": "Python 3",
   "language": "python",
   "name": "python3"
  },
  "language_info": {
   "codemirror_mode": {
    "name": "ipython",
    "version": 3
   },
   "file_extension": ".py",
   "mimetype": "text/x-python",
   "name": "python",
   "nbconvert_exporter": "python",
   "pygments_lexer": "ipython3",
   "version": "3.7.3"
  }
 },
 "nbformat": 4,
 "nbformat_minor": 2
}
