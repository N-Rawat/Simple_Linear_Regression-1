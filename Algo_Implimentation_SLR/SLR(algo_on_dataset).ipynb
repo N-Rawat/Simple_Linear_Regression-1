{
 "cells": [
  {
   "cell_type": "code",
   "execution_count": 93,
   "metadata": {},
   "outputs": [],
   "source": [
    "#importing libraries\n",
    "import numpy as np\n",
    "import matplotlib.pyplot as plt\n",
    "import pandas as pd"
   ]
  },
  {
   "cell_type": "code",
   "execution_count": null,
   "metadata": {
    "scrolled": true
   },
   "outputs": [],
   "source": []
  },
  {
   "cell_type": "code",
   "execution_count": 94,
   "metadata": {},
   "outputs": [
    {
     "data": {
      "text/plain": [
       "\"#plotting test dataset without using linear regression \\nplt.scatter(x_test1, y_test1, color='red')\\nplt.title('Test Dataset')\\nplt.xlabel('Sizes')\\nplt.ylabel('Price')\\nplt.xticks(())\\nplt.yticks(())\\n\\n#plotting train dataset\\nplt.scatter(x_train1, y_train1, color='red')\\nplt.title('Test Dataset')\\nplt.xlabel('Sizes')\\nplt.ylabel('Price')\\n\""
      ]
     },
     "execution_count": 94,
     "metadata": {},
     "output_type": "execute_result"
    }
   ],
   "source": [
    "'''#plotting test dataset without using linear regression \n",
    "plt.scatter(x_test1, y_test1, color='red')\n",
    "plt.title('Test Dataset')\n",
    "plt.xlabel('Sizes')\n",
    "plt.ylabel('Price')\n",
    "plt.xticks(())\n",
    "plt.yticks(())\n",
    "\n",
    "#plotting train dataset\n",
    "plt.scatter(x_train1, y_train1, color='red')\n",
    "plt.title('Test Dataset')\n",
    "plt.xlabel('Sizes')\n",
    "plt.ylabel('Price')\n",
    "'''"
   ]
  },
  {
   "cell_type": "code",
   "execution_count": 95,
   "metadata": {},
   "outputs": [],
   "source": [
    "#create linear regression\n",
    "#defining function for estimating coefficient b1 and b0 y-intercept and slope \n",
    "def estimate_coef(x_train1 , y_train1):\n",
    "    #no. of observations\n",
    "    n = np.size(x_train1)\n",
    "    #mean of x and y vector\n",
    "    m_xt , m_yt = np.mean(x_train1) , np.mean(y_train1)\n",
    "    #calculating cross-deviation and deviation about x_train1\n",
    "    #ss sum of square in actual cross deviation formula is sumition of n=1 to n ((x-x(bax))/(y-y(bar)))/(x-x(bar))square, where y(bar) is 1/n multiply with sumition of n=1 to n (y(i) where in is each ele in y vector and similary for xx\n",
    "    #in programming we multiply mean of x to mean of y and no. of ele in x and subtract it from sum of x*y\n",
    "    SS_xtyt = np.sum(y_train1*x_train1) - n*m_yt*m_xt\n",
    "    print('value of SS_xtyt: ', SS_xtyt)\n",
    "    SS_xtxt = np.sum(x_train1*x_train1) - n*m_xt*m_xt\n",
    "    print('value of SS_xtxt: ', SS_xtxt)\n",
    "    #calculating  regression coefficients\n",
    "    # b1 y-intercept is division of cross deviation and deviation abpout x\n",
    "    b1 = SS_xtyt / SS_xtxt \n",
    "    b0 = m_yt - b1*m_xt\n",
    "    \n",
    "    #resulting\n",
    "    return(b0 , b1)\n",
    "    "
   ]
  },
  {
   "cell_type": "code",
   "execution_count": 96,
   "metadata": {},
   "outputs": [],
   "source": [
    "def plot_reg_line(x_train1 , y_train1 , b):\n",
    "    #plotting actual points as scatter plot\n",
    "    plt.scatter(x_train1 , y_train1 , color = 'yellow')\n",
    "    \n",
    "    #prediciting y(response) vector\n",
    "    # y = b1 + b0 * x\n",
    "    y_pred = b[0] + b[1] * x_train1\n",
    "    \n",
    "    #plotting the regression line\n",
    "    plt.plot(x_train1 , y_pred , color = 'red')\n",
    "    \n",
    "    #putting labels\n",
    "    plt.xlabel('sizes')\n",
    "    plt.ylabel('prices')\n",
    "    \n",
    "    #function to show plot\n",
    "    plt.show()"
   ]
  },
  {
   "cell_type": "code",
   "execution_count": 97,
   "metadata": {},
   "outputs": [],
   "source": [
    " #main method\n",
    "def main():\n",
    "    #importing dataset\n",
    "    df = pd.read_csv('Home.csv')\n",
    "    #splitting data into independent and dependent x and y values\n",
    "    x = df.iloc[:,:1].values\n",
    "    y = df.iloc[:, -1].values\n",
    "    #priting x and y\n",
    "    print('independent values',x)\n",
    "    print('dependent values',y)\n",
    "\n",
    "    # split dataset into train and test datasets\n",
    "    from sklearn.model_selection import train_test_split\n",
    "    x_train, x_test, y_train, y_test = train_test_split(x, y, test_size=0.25, random_state=0)\n",
    "    print('x_train values: ', x_train , '\\n x_train shape: ', x_train.shape)\n",
    "    print('x_test values: ', x_test , '\\n x_test shape:', x_test.shape)\n",
    "    print('y_train values: ', y_train , '\\n y_train shape: ', y_train.shape)\n",
    "    print('y_test values: ', x_test , '\\n y_test shape: ', y_test.shape)\n",
    "\n",
    "    #reshaping datasets\n",
    "    x_train1 = x_train.reshape((-1,1))\n",
    "    y_train1 = y_train.reshape((-1,1))\n",
    "    print('reshaped independent values(train)',x_train1 , \"\\n Shape of reshaped(x_train):\", x_train1.shape)\n",
    "    print('reshaped dependent values(train)',y_train1 , \"\\n Shape of reshaped(y_train):\", y_train1.shape)\n",
    "    x_test1 = x_test.reshape((-1,1))\n",
    "    y_test1 = y_test.reshape((-1,1))\n",
    "    print('reshaped independent values(test)',x_test1 , \"\\n Shape of reshaped(x_test):\", x_test1.shape)\n",
    "    print('reshaped dependent values(test)',y_test1 , \"\\n Shape of reshaped(y_test):\", y_test1.shape)\n",
    "   \n",
    "    #function calls\n",
    "    # estimating coefficients\n",
    "    b = estimate_coef(x_train1 , y_train1)\n",
    "    print(' Estimated coefficient: \\n b0 = {} \\n b1 = {} ' .format(b[0] , b[1]))\n",
    "    \n",
    "    plot_reg_line(x_train1 , y_train1 , b)\n",
    "   "
   ]
  },
  {
   "cell_type": "code",
   "execution_count": 98,
   "metadata": {},
   "outputs": [
    {
     "name": "stdout",
     "output_type": "stream",
     "text": [
      "independent values [[1180]\n",
      " [2570]\n",
      " [ 770]\n",
      " ...\n",
      " [1020]\n",
      " [1600]\n",
      " [1020]]\n",
      "dependent values [1955 1951 1933 ... 2009 2004 2008]\n",
      "x_train values:  [[ 960]\n",
      " [1510]\n",
      " [1670]\n",
      " ...\n",
      " [2360]\n",
      " [2370]\n",
      " [2380]] \n",
      " x_train shape:  (16209, 1)\n",
      "x_test values:  [[1430]\n",
      " [4670]\n",
      " [1440]\n",
      " ...\n",
      " [3410]\n",
      " [1180]\n",
      " [1620]] \n",
      " x_test shape: (5404, 1)\n",
      "y_train values:  [1945 1948 1961 ... 1978 1978 1961] \n",
      " y_train shape:  (16209,)\n",
      "y_test values:  [[1430]\n",
      " [4670]\n",
      " [1440]\n",
      " ...\n",
      " [3410]\n",
      " [1180]\n",
      " [1620]] \n",
      " y_test shape:  (5404,)\n",
      "reshaped independent values(train) [[ 960]\n",
      " [1510]\n",
      " [1670]\n",
      " ...\n",
      " [2360]\n",
      " [2370]\n",
      " [2380]] \n",
      " Shape of reshaped(x_train): (16209, 1)\n",
      "reshaped dependent values(train) [[1945]\n",
      " [1948]\n",
      " [1961]\n",
      " ...\n",
      " [1978]\n",
      " [1978]\n",
      " [1961]] \n",
      " Shape of reshaped(y_train): (16209, 1)\n",
      "reshaped independent values(test) [[1430]\n",
      " [4670]\n",
      " [1440]\n",
      " ...\n",
      " [3410]\n",
      " [1180]\n",
      " [1620]] \n",
      " Shape of reshaped(x_test): (5404, 1)\n",
      "reshaped dependent values(test) [[1999]\n",
      " [1988]\n",
      " [1914]\n",
      " ...\n",
      " [2004]\n",
      " [1981]\n",
      " [1928]] \n",
      " Shape of reshaped(y_test): (5404, 1)\n",
      "value of SS_xy:  138309508.88925934\n",
      "value of SS_xx:  13858326765.267197\n",
      " Estimated coefficient: \n",
      " b0 = 1950.2303308478304 \n",
      " b1 = 0.009980245900674044 \n"
     ]
    },
    {
     "data": {
      "image/png": "[encoded data removed]",
      "text/plain": [
       "<Figure size 432x288 with 1 Axes>"
      ]
     },
     "metadata": {
      "needs_background": "light"
     },
     "output_type": "display_data"
    }
   ],
   "source": [
    "# main function call\n",
    "\n",
    "if __name__ == \"__main__\":\n",
    "    main()\n"
   ]
  }
 ],
 "metadata": {
  "kernelspec": {
   "display_name": "Python 3",
   "language": "python",
   "name": "python3"
  },
  "language_info": {
   "codemirror_mode": {
    "name": "ipython",
    "version": 3
   },
   "file_extension": ".py",
   "mimetype": "text/x-python",
   "name": "python",
   "nbconvert_exporter": "python",
   "pygments_lexer": "ipython3",
   "version": "3.7.3"
  }
 },
 "nbformat": 4,
 "nbformat_minor": 2
}
